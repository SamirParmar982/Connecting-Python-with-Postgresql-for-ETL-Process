{
 "cells": [
  {
   "cell_type": "code",
   "execution_count": null,
   "id": "206e71e3",
   "metadata": {},
   "outputs": [],
   "source": [
    "#pip install pandas psycopg2"
   ]
  },
  {
   "cell_type": "code",
   "execution_count": null,
   "id": "54599693",
   "metadata": {},
   "outputs": [],
   "source": [
    "import pandas as pd\n",
    "import psycopg2\n",
    "import os\n",
    "import pandas as pd\n",
    "import numpy as np\n",
    "from pandas.testing import assert_frame_equal\n",
    "from datetime import datetime\n",
    "pd.options.display.max_columns = None\n",
    "pd.options.display.max_rows = None"
   ]
  },
  {
   "cell_type": "code",
   "execution_count": null,
   "id": "fd57f011",
   "metadata": {},
   "outputs": [],
   "source": [
    "Connection_info = {\n",
    "    \"host\": \"localhost\",\n",
    "    \"database\": \"operations_db\",\n",
    "    \"user\": \"postgres\",\n",
    "    \"password\": \"nj@12345\"\n",
    "}"
   ]
  },
  {
   "cell_type": "code",
   "execution_count": null,
   "id": "d8fbe314",
   "metadata": {},
   "outputs": [],
   "source": [
    "connection = psycopg2.connect(**Connection_info)"
   ]
  },
  {
   "cell_type": "code",
   "execution_count": null,
   "id": "fa4078d5",
   "metadata": {},
   "outputs": [],
   "source": [
    "cursor = connection.cursor()"
   ]
  },
  {
   "cell_type": "code",
   "execution_count": null,
   "id": "56467662",
   "metadata": {},
   "outputs": [],
   "source": [
    "df1 = pd.read_csv('company_cost_202310181702.csv')"
   ]
  },
  {
   "cell_type": "code",
   "execution_count": null,
   "id": "94fb7139",
   "metadata": {},
   "outputs": [],
   "source": [
    "df2 = pd.read_csv('employee_demographics_202310181702.csv')"
   ]
  },
  {
   "cell_type": "code",
   "execution_count": null,
   "id": "eb4eeed6",
   "metadata": {},
   "outputs": [],
   "source": [
    "df3 = pd.read_csv('employee_salary_202310181702.csv')"
   ]
  },
  {
   "cell_type": "code",
   "execution_count": null,
   "id": "9061b7a8",
   "metadata": {},
   "outputs": [],
   "source": [
    "df1.head()"
   ]
  },
  {
   "cell_type": "code",
   "execution_count": null,
   "id": "83e66330",
   "metadata": {},
   "outputs": [],
   "source": [
    "df1.info()"
   ]
  },
  {
   "cell_type": "code",
   "execution_count": null,
   "id": "ebebc617",
   "metadata": {},
   "outputs": [],
   "source": [
    "df2.head()"
   ]
  },
  {
   "cell_type": "code",
   "execution_count": null,
   "id": "7cabe65c",
   "metadata": {},
   "outputs": [],
   "source": [
    "df2.info()"
   ]
  },
  {
   "cell_type": "code",
   "execution_count": null,
   "id": "0c7cb84f",
   "metadata": {},
   "outputs": [],
   "source": [
    "df3.head()"
   ]
  },
  {
   "cell_type": "code",
   "execution_count": null,
   "id": "02b1831d",
   "metadata": {},
   "outputs": [],
   "source": [
    "df3.info()"
   ]
  },
  {
   "cell_type": "code",
   "execution_count": null,
   "id": "e4950f95",
   "metadata": {},
   "outputs": [],
   "source": [
    "# creating table into the database "
   ]
  },
  {
   "cell_type": "code",
   "execution_count": null,
   "id": "b060bb65",
   "metadata": {},
   "outputs": [],
   "source": [
    "table1 = \"company_cost\"\n",
    "table2 = \"employee_demographics\"\n",
    "table3 = \"employee_salary\""
   ]
  },
  {
   "cell_type": "code",
   "execution_count": null,
   "id": "77f42710",
   "metadata": {},
   "outputs": [],
   "source": [
    "columns_define1 = \"employeeid BIGINT null,productname varchar(100) null,cost BIGINT  null,totalsales BIGINT null,totalamount BIGINT null,locations varchar(100) null\""
   ]
  },
  {
   "cell_type": "code",
   "execution_count": null,
   "id": "7f10a76f",
   "metadata": {},
   "outputs": [],
   "source": [
    "columns_define2 = \"employeeid BIGINT null,firstname varchar(100) null,lastname varchar(100) null,age BIGINT null,gender varchar(100) null\""
   ]
  },
  {
   "cell_type": "code",
   "execution_count": null,
   "id": "fd66f90a",
   "metadata": {},
   "outputs": [],
   "source": [
    "columns_define3 = \"employeeid BIGINT null,jobtitle varchar(100) null,salary BIGINT null\""
   ]
  },
  {
   "cell_type": "code",
   "execution_count": null,
   "id": "0dc27874",
   "metadata": {},
   "outputs": [],
   "source": [
    "cursor = connection.cursor()"
   ]
  },
  {
   "cell_type": "code",
   "execution_count": null,
   "id": "94aad534",
   "metadata": {},
   "outputs": [],
   "source": [
    "create_table_query1 = f\"CREATE TABLE {table1} ({columns_define1});\""
   ]
  },
  {
   "cell_type": "code",
   "execution_count": null,
   "id": "bd7aa1ad",
   "metadata": {},
   "outputs": [],
   "source": [
    "create_table_query2 = f\"CREATE TABLE {table2} ({columns_define2});\""
   ]
  },
  {
   "cell_type": "code",
   "execution_count": null,
   "id": "6787ed73",
   "metadata": {},
   "outputs": [],
   "source": [
    "create_table_query3 = f\"CREATE TABLE {table3} ({columns_define3});\""
   ]
  },
  {
   "cell_type": "code",
   "execution_count": null,
   "id": "20796b0c",
   "metadata": {},
   "outputs": [],
   "source": [
    "cursor.execute(create_table_query1)"
   ]
  },
  {
   "cell_type": "code",
   "execution_count": null,
   "id": "418c480c",
   "metadata": {},
   "outputs": [],
   "source": [
    "cursor.execute(create_table_query2)"
   ]
  },
  {
   "cell_type": "code",
   "execution_count": null,
   "id": "0665f63c",
   "metadata": {},
   "outputs": [],
   "source": [
    "cursor.execute(create_table_query3)"
   ]
  },
  {
   "cell_type": "code",
   "execution_count": null,
   "id": "8d0a4f51",
   "metadata": {},
   "outputs": [],
   "source": [
    "connection.commit()"
   ]
  },
  {
   "cell_type": "code",
   "execution_count": null,
   "id": "a49ab582",
   "metadata": {},
   "outputs": [],
   "source": [
    "# To Check the table is created or not "
   ]
  },
  {
   "cell_type": "code",
   "execution_count": null,
   "id": "df2b14fa",
   "metadata": {},
   "outputs": [],
   "source": [
    "connection = psycopg2.connect(**Connection_info)"
   ]
  },
  {
   "cell_type": "code",
   "execution_count": null,
   "id": "cef623a0",
   "metadata": {},
   "outputs": [],
   "source": [
    "cursor = connection.cursor()"
   ]
  },
  {
   "cell_type": "code",
   "execution_count": null,
   "id": "48c8ce08",
   "metadata": {},
   "outputs": [],
   "source": [
    "query = \"select * from company_cost\""
   ]
  },
  {
   "cell_type": "code",
   "execution_count": null,
   "id": "58a8c7f7",
   "metadata": {},
   "outputs": [],
   "source": [
    "df = pd.read_sql(query, connection)"
   ]
  },
  {
   "cell_type": "code",
   "execution_count": null,
   "id": "4025a1a8",
   "metadata": {},
   "outputs": [],
   "source": [
    "df"
   ]
  },
  {
   "cell_type": "code",
   "execution_count": null,
   "id": "369661d5",
   "metadata": {},
   "outputs": [],
   "source": [
    "# Inserting data from dataframe to database"
   ]
  },
  {
   "cell_type": "code",
   "execution_count": null,
   "id": "9bc3d8cd",
   "metadata": {},
   "outputs": [],
   "source": [
    "df1.info()"
   ]
  },
  {
   "cell_type": "code",
   "execution_count": null,
   "id": "3a6a57fb",
   "metadata": {},
   "outputs": [],
   "source": [
    "df1['employeeid']= df1['employeeid'].astype('int64')\n",
    "df1['cost']= df1['cost'].astype('int64')\n",
    "df1['totalsales']= df1['totalsales'].astype('int64')\n",
    "df1['totalamount']= df1['totalamount'].astype('int64')\n",
    "df1['productname']= df1['productname'].astype('string')\n",
    "df1['locations']= df1['locations'].astype('string')"
   ]
  },
  {
   "cell_type": "code",
   "execution_count": null,
   "id": "e116d8ec",
   "metadata": {},
   "outputs": [],
   "source": [
    "for index, row in df1.iterrows():\n",
    "    cursor.execute(\n",
    "        \"INSERT INTO company_cost (employeeid, productname, cost, totalsales, totalamount, locations) VALUES (%s, %s, %s, %s, %s, %s)\",\n",
    "        (row['employeeid'], row['productname'], row['cost'], row['totalsales'], row['totalamount'], row['locations'])\n",
    "    )"
   ]
  },
  {
   "cell_type": "code",
   "execution_count": null,
   "id": "256edb8a",
   "metadata": {},
   "outputs": [],
   "source": [
    "df2.head(29)"
   ]
  },
  {
   "cell_type": "code",
   "execution_count": null,
   "id": "f07d7766",
   "metadata": {},
   "outputs": [],
   "source": [
    "df2['employeeid'] = df2['employeeid'].replace('NaN',0)\n",
    "df2['age'] = df2['age'].replace('NaN',0)"
   ]
  },
  {
   "cell_type": "code",
   "execution_count": null,
   "id": "395d9914",
   "metadata": {},
   "outputs": [],
   "source": [
    "df2['employeeid'] = df2['employeeid'].fillna(0)\n",
    "df2['age'] = df2['age'].fillna(0)"
   ]
  },
  {
   "cell_type": "code",
   "execution_count": null,
   "id": "60111113",
   "metadata": {},
   "outputs": [],
   "source": [
    "df2['employeeid'] = df2['employeeid'].astype('int64')\n",
    "df2['age'] = df2['age'].astype('int64')"
   ]
  },
  {
   "cell_type": "code",
   "execution_count": null,
   "id": "bd2dd532",
   "metadata": {},
   "outputs": [],
   "source": [
    "for index, row in df2.iterrows():\n",
    "    cursor.execute(\n",
    "        \"INSERT INTO employee_demographics (employeeid,firstname,lastname,age,gender) VALUES (%s, %s, %s, %s, %s)\",\n",
    "        (row['employeeid'], row['firstname'], row['lastname'], row['age'], row['gender'])\n",
    "    )"
   ]
  },
  {
   "cell_type": "code",
   "execution_count": null,
   "id": "0d584074",
   "metadata": {},
   "outputs": [],
   "source": [
    "for index, row in df3.iterrows():\n",
    "    cursor.execute(\n",
    "        \"INSERT INTO employee_salary (employeeid, jobtitle,salary) VALUES (%s, %s, %s)\",\n",
    "        (row['employeeid'], row['jobtitle'], row['salary'])\n",
    "    )"
   ]
  },
  {
   "cell_type": "code",
   "execution_count": null,
   "id": "e34aa114",
   "metadata": {},
   "outputs": [],
   "source": [
    "connection.commit()"
   ]
  },
  {
   "cell_type": "code",
   "execution_count": null,
   "id": "826f256f",
   "metadata": {},
   "outputs": [],
   "source": [
    "# Checking if data is inserted or not "
   ]
  },
  {
   "cell_type": "code",
   "execution_count": null,
   "id": "ee89144d",
   "metadata": {},
   "outputs": [],
   "source": [
    "query1 = \"select * from company_cost\""
   ]
  },
  {
   "cell_type": "code",
   "execution_count": null,
   "id": "25200cb9",
   "metadata": {},
   "outputs": [],
   "source": [
    "dfa = pd.read_sql(query1, connection)"
   ]
  },
  {
   "cell_type": "code",
   "execution_count": null,
   "id": "cc1136c9",
   "metadata": {},
   "outputs": [],
   "source": [
    "query2 = \"select * from employee_demographics\""
   ]
  },
  {
   "cell_type": "code",
   "execution_count": null,
   "id": "a86a0caf",
   "metadata": {},
   "outputs": [],
   "source": [
    "dfb = pd.read_sql(query2, connection)"
   ]
  },
  {
   "cell_type": "code",
   "execution_count": null,
   "id": "5902653a",
   "metadata": {},
   "outputs": [],
   "source": [
    "query3 = \"select * from employee_salary\""
   ]
  },
  {
   "cell_type": "code",
   "execution_count": null,
   "id": "708bd295",
   "metadata": {},
   "outputs": [],
   "source": [
    "dfc = pd.read_sql(query3, connection)"
   ]
  },
  {
   "cell_type": "code",
   "execution_count": null,
   "id": "f88c7aec",
   "metadata": {},
   "outputs": [],
   "source": [
    "dfa"
   ]
  },
  {
   "cell_type": "code",
   "execution_count": null,
   "id": "1ac4c02e",
   "metadata": {},
   "outputs": [],
   "source": [
    "dfb"
   ]
  },
  {
   "cell_type": "code",
   "execution_count": null,
   "id": "93cb2608",
   "metadata": {},
   "outputs": [],
   "source": [
    "dfc"
   ]
  },
  {
   "cell_type": "code",
   "execution_count": null,
   "id": "2a3af06a",
   "metadata": {},
   "outputs": [],
   "source": [
    "# Below codes are not to be used only when urgent "
   ]
  },
  {
   "cell_type": "code",
   "execution_count": null,
   "id": "8d0c8dab",
   "metadata": {},
   "outputs": [],
   "source": [
    "---------------------------------------------------------"
   ]
  },
  {
   "cell_type": "code",
   "execution_count": null,
   "id": "4ef35c44",
   "metadata": {},
   "outputs": [],
   "source": [
    "# Truncate Table "
   ]
  },
  {
   "cell_type": "code",
   "execution_count": null,
   "id": "a514dcb2",
   "metadata": {},
   "outputs": [],
   "source": [
    "connection = psycopg2.connect(**Connection_info)"
   ]
  },
  {
   "cell_type": "code",
   "execution_count": null,
   "id": "f73e0061",
   "metadata": {},
   "outputs": [],
   "source": [
    "Table_name = \"employee_salary\""
   ]
  },
  {
   "cell_type": "code",
   "execution_count": null,
   "id": "316a5545",
   "metadata": {},
   "outputs": [],
   "source": [
    "cursor = connection.cursor()"
   ]
  },
  {
   "cell_type": "code",
   "execution_count": null,
   "id": "a6fd6090",
   "metadata": {},
   "outputs": [],
   "source": [
    "truncate_query = f\"TRUNCATE {Table_name} RESTART IDENTITY CASCADE;\""
   ]
  },
  {
   "cell_type": "code",
   "execution_count": null,
   "id": "4032fb1e",
   "metadata": {},
   "outputs": [],
   "source": [
    "cursor.execute(truncate_query)"
   ]
  },
  {
   "cell_type": "code",
   "execution_count": null,
   "id": "95bd1b1a",
   "metadata": {},
   "outputs": [],
   "source": [
    "connection.commit()"
   ]
  },
  {
   "cell_type": "code",
   "execution_count": null,
   "id": "9129780d",
   "metadata": {},
   "outputs": [],
   "source": [
    "# Drop Table"
   ]
  },
  {
   "cell_type": "code",
   "execution_count": null,
   "id": "f6f55fae",
   "metadata": {},
   "outputs": [],
   "source": [
    "connection = psycopg2.connect(**Connection_info)"
   ]
  },
  {
   "cell_type": "code",
   "execution_count": null,
   "id": "967a3edd",
   "metadata": {},
   "outputs": [],
   "source": [
    "table_name = \"employee_demographics\""
   ]
  },
  {
   "cell_type": "code",
   "execution_count": null,
   "id": "9075a4ec",
   "metadata": {},
   "outputs": [],
   "source": [
    "cursor = connection.cursor()"
   ]
  },
  {
   "cell_type": "code",
   "execution_count": null,
   "id": "7c428db4",
   "metadata": {},
   "outputs": [],
   "source": [
    "drop_table_query = f\"DROP TABLE IF EXISTS {table_name};\""
   ]
  },
  {
   "cell_type": "code",
   "execution_count": null,
   "id": "439075a1",
   "metadata": {},
   "outputs": [],
   "source": [
    "cursor.execute(drop_table_query)"
   ]
  },
  {
   "cell_type": "code",
   "execution_count": null,
   "id": "49a719a6",
   "metadata": {},
   "outputs": [],
   "source": [
    "connection.commit()"
   ]
  },
  {
   "cell_type": "code",
   "execution_count": null,
   "id": "acec4f8e",
   "metadata": {},
   "outputs": [],
   "source": []
  }
 ],
 "metadata": {
  "kernelspec": {
   "display_name": "Python 3 (ipykernel)",
   "language": "python",
   "name": "python3"
  },
  "language_info": {
   "codemirror_mode": {
    "name": "ipython",
    "version": 3
   },
   "file_extension": ".py",
   "mimetype": "text/x-python",
   "name": "python",
   "nbconvert_exporter": "python",
   "pygments_lexer": "ipython3",
   "version": "3.11.5"
  }
 },
 "nbformat": 4,
 "nbformat_minor": 5
}
